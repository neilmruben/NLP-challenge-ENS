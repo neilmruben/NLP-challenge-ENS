{
 "cells": [
  {
   "cell_type": "code",
   "execution_count": 4,
   "metadata": {},
   "outputs": [
    {
     "name": "stderr",
     "output_type": "stream",
     "text": [
      "Clonage dans '/Users/neilmarteau/Documents/M2 MoSEF/NLP/GitProject'...\n"
     ]
    },
    {
     "name": "stdout",
     "output_type": "stream",
     "text": [
      "Repository cloned successfully!\n"
     ]
    }
   ],
   "source": [
    "import subprocess\n",
    "\n",
    "def clone_github_repo(repo_url, destination_folder):\n",
    "    try:\n",
    "        # Execute git clone command\n",
    "        subprocess.run(['git', 'clone', repo_url, destination_folder])\n",
    "        print(\"Repository cloned successfully!\")\n",
    "    except Exception as e:\n",
    "        print(f\"Error cloning repository: {e}\")\n",
    "\n",
    "# Provide the URL of the GitHub repository you want to clone\n",
    "github_repo_url = \"https://github.com/Joseph-Willson/projet_NLP.git\"\n",
    "\n",
    "# Provide the destination folder where you want to clone the repository\n",
    "destination_folder = \"/Users/neilmarteau/Documents/M2 MoSEF/NLP/GitProject\"\n",
    "\n",
    "# Clone the GitHub repository\n",
    "clone_github_repo(github_repo_url, destination_folder)\n"
   ]
  },
  {
   "cell_type": "code",
   "execution_count": null,
   "metadata": {},
   "outputs": [],
   "source": []
  }
 ],
 "metadata": {
  "kernelspec": {
   "display_name": "base",
   "language": "python",
   "name": "python3"
  },
  "language_info": {
   "codemirror_mode": {
    "name": "ipython",
    "version": 3
   },
   "file_extension": ".py",
   "mimetype": "text/x-python",
   "name": "python",
   "nbconvert_exporter": "python",
   "pygments_lexer": "ipython3",
   "version": "3.11.5"
  }
 },
 "nbformat": 4,
 "nbformat_minor": 2
}
