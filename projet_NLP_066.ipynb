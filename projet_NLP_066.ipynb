{
 "cells": [
  {
   "cell_type": "markdown",
   "metadata": {},
   "source": [
    "## Import des bibliothèques "
   ]
  },
  {
   "cell_type": "markdown",
   "metadata": {},
   "source": []
  },
  {
   "cell_type": "code",
   "execution_count": 8,
   "metadata": {},
   "outputs": [
    {
     "name": "stderr",
     "output_type": "stream",
     "text": [
      "[nltk_data] Downloading package punkt to\n",
      "[nltk_data]     /Users/neilmarteau/nltk_data...\n",
      "[nltk_data]   Package punkt is already up-to-date!\n",
      "[nltk_data] Downloading package stopwords to\n",
      "[nltk_data]     /Users/neilmarteau/nltk_data...\n",
      "[nltk_data]   Package stopwords is already up-to-date!\n",
      "[nltk_data] Downloading package wordnet to\n",
      "[nltk_data]     /Users/neilmarteau/nltk_data...\n",
      "[nltk_data]   Package wordnet is already up-to-date!\n"
     ]
    }
   ],
   "source": [
    "import pandas as pd\n",
    "\n",
    "import optuna\n",
    "from sklearn.neural_network import MLPClassifier\n",
    "from sklearn.metrics import accuracy_score\n",
    "\n",
    "import numpy as np\n",
    "from sklearn.naive_bayes import MultinomialNB\n",
    "from sklearn.feature_extraction.text import CountVectorizer\n",
    "from sklearn.feature_extraction.text import TfidfTransformer\n",
    "\n",
    "from sklearn.model_selection import GridSearchCV\n",
    "from sklearn.feature_extraction.text import CountVectorizer\n",
    "from sklearn.feature_extraction.text import HashingVectorizer\n",
    "from sklearn.feature_extraction.text import TfidfVectorizer\n",
    "from sklearn.linear_model import LogisticRegression\n",
    "from sklearn.feature_extraction.text import CountVectorizer\n",
    "from sklearn.feature_extraction.text import HashingVectorizer\n",
    "from sklearn.feature_extraction.text import TfidfVectorizer\n",
    "from sklearn.pipeline import Pipeline\n",
    "\n",
    "from sklearn.model_selection import train_test_split\n",
    "from sklearn.feature_extraction.text import TfidfVectorizer\n",
    "from sklearn.svm import SVC\n",
    "from sklearn.ensemble import RandomForestClassifier\n",
    "from sklearn.linear_model import LogisticRegression\n",
    "from sklearn.neural_network import MLPClassifier\n",
    "from sklearn.metrics import accuracy_score\n",
    "\n",
    "import re\n",
    "import string\n",
    "import nltk\n",
    "from nltk.corpus import stopwords\n",
    "from nltk.stem import WordNetLemmatizer\n",
    "\n",
    "# Télécharger les ressources NLTK nécessaires\n",
    "nltk.download('punkt')\n",
    "nltk.download('stopwords')\n",
    "nltk.download('wordnet')\n",
    "\n",
    "import warnings\n",
    "warnings.filterwarnings('ignore')\n"
   ]
  },
  {
   "cell_type": "markdown",
   "metadata": {},
   "source": [
    "### Chargement des dataframe pour le projet"
   ]
  },
  {
   "cell_type": "code",
   "execution_count": 2,
   "metadata": {},
   "outputs": [],
   "source": [
    "x_train = pd.read_csv(r\"./data/x_train.csv\")\n",
    "y_train = pd.read_csv(r\"./data/y_train.csv\")\n",
    "x_test = pd.read_csv(r\"./data/x_test.csv\")\n",
    "\n",
    "x_train = x_train.set_index('ID')\n",
    "y_train = y_train.set_index('ID')\n",
    "x_test = x_test.set_index('ID')\n",
    "\n",
    "train = pd.concat([x_train, y_train], axis=1)\n",
    "data = pd.concat([train, x_test], axis=0)"
   ]
  },
  {
   "cell_type": "markdown",
   "metadata": {},
   "source": [
    "### Début de l'analyse des dataframes"
   ]
  },
  {
   "cell_type": "code",
   "execution_count": 3,
   "metadata": {},
   "outputs": [
    {
     "name": "stdout",
     "output_type": "stream",
     "text": [
      "(8028, 1)\n",
      "(8028, 1)\n",
      "(2035, 1)\n"
     ]
    }
   ],
   "source": [
    "print(x_train.shape)\n",
    "print(y_train.shape)\n",
    "print(x_test.shape)"
   ]
  },
  {
   "cell_type": "markdown",
   "metadata": {},
   "source": [
    "# Pré-traitements des données"
   ]
  },
  {
   "cell_type": "markdown",
   "metadata": {},
   "source": [
    "### Pre-processing : "
   ]
  },
  {
   "cell_type": "code",
   "execution_count": 3,
   "metadata": {},
   "outputs": [],
   "source": [
    "def preprocess_text(text):\n",
    "    # Convertir le texte en minuscules\n",
    "    text = text.lower()\n",
    "    \n",
    "    # Supprimer les balises HTML (le cas échéant)\n",
    "    text = re.sub(r'<.*?>', '', text)\n",
    "    \n",
    "    # Supprimer la ponctuation\n",
    "    text = text.translate(str.maketrans('', '', string.punctuation))\n",
    "    \n",
    "    # Tokenization (division en mots)\n",
    "    tokens = nltk.word_tokenize(text)\n",
    "    \n",
    "    # Supprimer les mots vides\n",
    "    stop_words = set(stopwords.words('french'))\n",
    "    tokens = [word for word in tokens if word not in stop_words]\n",
    "    \n",
    "    # Lemmatization\n",
    "    lemmatizer = WordNetLemmatizer()\n",
    "    tokens = [lemmatizer.lemmatize(word) for word in tokens]\n",
    "    \n",
    "    # Rejoindre les mots traités en une seule chaîne de caractères\n",
    "    processed_text = ' '.join(tokens)\n",
    "    \n",
    "    return processed_text\n",
    "\n",
    "# Exemple d'utilisation\n",
    "data.question = data.question.apply(preprocess_text)"
   ]
  },
  {
   "cell_type": "markdown",
   "metadata": {},
   "source": [
    "### Vectorizer : "
   ]
  },
  {
   "cell_type": "code",
   "execution_count": 4,
   "metadata": {},
   "outputs": [
    {
     "name": "stdout",
     "output_type": "stream",
     "text": [
      "Vectorizing using HashingVectorizer...\n",
      "Best parameters found:\n",
      "{'vectorizer__n_features': 10000}\n",
      "Best accuracy found: 0.5546844194085264\n",
      "Vectorizing using TfidfVectorizer...\n",
      "Best parameters found:\n",
      "{'vectorizer__max_features': 5000}\n",
      "Best accuracy found: 0.5858274461423865\n",
      "Vectorizing using CountVectorizer...\n",
      "Best parameters found:\n",
      "{'vectorizer__max_features': 10000}\n",
      "Best accuracy found: 0.6438727047714373\n"
     ]
    }
   ],
   "source": [
    "vectorizers = {\n",
    "    \"HashingVectorizer\": HashingVectorizer(),\n",
    "    \"TfidfVectorizer\": TfidfVectorizer(),\n",
    "    \"CountVectorizer\": CountVectorizer()\n",
    "}\n",
    "\n",
    "param_grids = {\n",
    "    \"HashingVectorizer\": {'vectorizer__n_features': [1000, 5000, 10000]},\n",
    "    \"TfidfVectorizer\": {'vectorizer__max_features': [5000, 10000, 15000]},\n",
    "    \"CountVectorizer\": {'vectorizer__max_features': [5000, 10000, 15000]}\n",
    "}\n",
    "\n",
    "logistic_regression_model = LogisticRegression(max_iter=1000)\n",
    "\n",
    "for vec_name, vectorizer in vectorizers.items():\n",
    "    print(f\"Vectorizing using {vec_name}...\")\n",
    "    \n",
    "    pipeline = Pipeline([\n",
    "        ('vectorizer', vectorizer),\n",
    "        ('classifier', logistic_regression_model)\n",
    "    ])\n",
    "    \n",
    "    grid_search = GridSearchCV(pipeline, param_grids[vec_name], cv=5, scoring='accuracy')\n",
    "    grid_search.fit(x_train['question'], y_train)\n",
    "    \n",
    "    print(\"Best parameters found:\")\n",
    "    print(grid_search.best_params_)\n",
    "    print(\"Best accuracy found:\", grid_search.best_score_)\n"
   ]
  },
  {
   "cell_type": "code",
   "execution_count": 4,
   "metadata": {},
   "outputs": [],
   "source": [
    "#vectorizer = CountVectorizer(max_features=10000)\n",
    "#vectorizer.fit(data['question'])\n",
    "\n",
    "# Initialize the HashingVectorizer\n",
    "vectorizer = HashingVectorizer(n_features=5000)  # You can adjust the number of features (n_features) as needed\n",
    "#vectorizer.fit(data['question'])\n",
    "\n",
    "#vectorizer = TfidfVectorizer(max_features=10000)  # You can adjust the number of max features as needed\n",
    "vectorizer.fit(data['question'])\n",
    "\n",
    "# Transform x_train and x_test using the same vectorizer\n",
    "x_train_transformed = vectorizer.transform(x_train['question'])\n",
    "x_test_transformed = vectorizer.transform(x_test['question'])\n"
   ]
  },
  {
   "cell_type": "markdown",
   "metadata": {},
   "source": [
    "# Etapes de modélisations : \n"
   ]
  },
  {
   "cell_type": "code",
   "execution_count": 5,
   "metadata": {},
   "outputs": [],
   "source": [
    "# Diviser les données en ensembles d'entraînement et de test\n",
    "X_train, X_test, y_train, y_test = train_test_split(x_train_transformed, y_train, test_size=0.2, random_state=42)"
   ]
  },
  {
   "cell_type": "markdown",
   "metadata": {},
   "source": [
    "### Modèles moins performants :"
   ]
  },
  {
   "cell_type": "code",
   "execution_count": 8,
   "metadata": {},
   "outputs": [
    {
     "name": "stdout",
     "output_type": "stream",
     "text": [
      "SVC Accuracy: 0.5417185554171855\n",
      "MultinomialNB Accuracy: 0.3026151930261519\n",
      "RandomForest Accuracy: 0.5859277708592777\n"
     ]
    }
   ],
   "source": [
    "models = {\n",
    "    \"SVC\": SVC(),\n",
    "    \"MultinomialNB\": MultinomialNB(),\n",
    "    \"RandomForest\": RandomForestClassifier()\n",
    "}\n",
    "\n",
    "for model_name, model in models.items():\n",
    "    model.fit(X_train, y_train)\n",
    "    y_val_pred = model.predict(X_test)\n",
    "    accuracy = accuracy_score(y_test, y_val_pred)\n",
    "    print(f\"{model_name} Accuracy:\", accuracy)\n"
   ]
  },
  {
   "cell_type": "markdown",
   "metadata": {},
   "source": [
    "### Meilleurs modèles : "
   ]
  },
  {
   "cell_type": "code",
   "execution_count": 7,
   "metadata": {},
   "outputs": [
    {
     "name": "stdout",
     "output_type": "stream",
     "text": [
      "LogisticRegression Accuracy: 0.5616438356164384\n",
      "MLPClassifier Accuracy: 0.6257783312577833\n"
     ]
    }
   ],
   "source": [
    "models = {\n",
    "    \"LogisticRegression\": LogisticRegression(max_iter=1000),\n",
    "    \"MLPClassifier\": MLPClassifier(hidden_layer_sizes=(100,), max_iter=1000),\n",
    "}\n",
    "\n",
    "for model_name, model in models.items():\n",
    "\n",
    "    model.fit(X_train, y_train)\n",
    "    y_val_pred = model.predict(X_test)\n",
    "    accuracy = accuracy_score(y_test, y_val_pred)\n",
    "    print(f\"{model_name} Accuracy:\", accuracy)"
   ]
  },
  {
   "cell_type": "markdown",
   "metadata": {},
   "source": [
    "### Optimisation des modèles avec Optuna : "
   ]
  },
  {
   "cell_type": "code",
   "execution_count": 18,
   "metadata": {},
   "outputs": [
    {
     "name": "stderr",
     "output_type": "stream",
     "text": [
      "[I 2024-04-02 13:04:33,998] A new study created in memory with name: no-name-7683150e-9a82-4a5e-9618-226e9098422d\n"
     ]
    },
    {
     "data": {
      "application/vnd.jupyter.widget-view+json": {
       "model_id": "675cee59b43b4dfda8794f7cc6f68a15",
       "version_major": 2,
       "version_minor": 0
      },
      "text/plain": [
       "  0%|          | 0/40 [00:00<?, ?it/s]"
      ]
     },
     "metadata": {},
     "output_type": "display_data"
    },
    {
     "name": "stdout",
     "output_type": "stream",
     "text": [
      "[I 2024-04-02 13:04:40,633] Trial 0 finished with value: 0.6419676214196762 and parameters: {'C': 16.30548135294488, 'penalty': 'l2'}. Best is trial 0 with value: 0.6419676214196762.\n",
      "[I 2024-04-02 13:04:41,905] Trial 1 finished with value: 0.23785803237858033 and parameters: {'C': 0.006193271041066651, 'penalty': 'l2'}. Best is trial 0 with value: 0.6419676214196762.\n",
      "[I 2024-04-02 13:04:45,878] Trial 2 finished with value: 0.23785803237858033 and parameters: {'C': 4.044468213486067e-05, 'penalty': 'l2'}. Best is trial 0 with value: 0.6419676214196762.\n",
      "[I 2024-04-02 13:04:47,047] Trial 3 finished with value: 0.3094645080946451 and parameters: {'C': 0.06314054027410404, 'penalty': 'l2'}. Best is trial 0 with value: 0.6419676214196762.\n",
      "[I 2024-04-02 13:04:50,699] Trial 4 finished with value: 0.23785803237858033 and parameters: {'C': 4.929834370134826e-05, 'penalty': 'l2'}. Best is trial 0 with value: 0.6419676214196762.\n",
      "[I 2024-04-02 13:04:57,178] Trial 5 finished with value: 0.23785803237858033 and parameters: {'C': 1.0246335396605701e-05, 'penalty': 'l2'}. Best is trial 0 with value: 0.6419676214196762.\n",
      "[I 2024-04-02 13:04:59,696] Trial 6 finished with value: 0.23785803237858033 and parameters: {'C': 0.00019260192366931208, 'penalty': 'l2'}. Best is trial 0 with value: 0.6419676214196762.\n",
      "[I 2024-04-02 13:05:07,191] Trial 7 finished with value: 0.6450809464508095 and parameters: {'C': 31.87960256962119, 'penalty': 'l2'}. Best is trial 7 with value: 0.6450809464508095.\n",
      "[I 2024-04-02 13:05:08,806] Trial 8 finished with value: 0.23785803237858033 and parameters: {'C': 0.0007022466728150948, 'penalty': 'l2'}. Best is trial 7 with value: 0.6450809464508095.\n",
      "[I 2024-04-02 13:05:16,496] Trial 9 finished with value: 0.6450809464508095 and parameters: {'C': 32.589428602167914, 'penalty': 'l2'}. Best is trial 7 with value: 0.6450809464508095.\n",
      "[I 2024-04-02 13:05:19,224] Trial 10 finished with value: 0.5834371108343711 and parameters: {'C': 1.3583540918134072, 'penalty': 'l2'}. Best is trial 7 with value: 0.6450809464508095.\n",
      "[I 2024-04-02 13:05:28,738] Trial 11 finished with value: 0.6382316313823163 and parameters: {'C': 98.7115022207966, 'penalty': 'l2'}. Best is trial 7 with value: 0.6450809464508095.\n",
      "[I 2024-04-02 13:05:32,867] Trial 12 finished with value: 0.6282689912826899 and parameters: {'C': 3.690384170594533, 'penalty': 'l2'}. Best is trial 7 with value: 0.6450809464508095.\n",
      "[I 2024-04-02 13:05:41,958] Trial 13 finished with value: 0.6400996264009963 and parameters: {'C': 73.09388812856908, 'penalty': 'l2'}. Best is trial 7 with value: 0.6450809464508095.\n",
      "[I 2024-04-02 13:05:45,036] Trial 14 finished with value: 0.6014943960149439 and parameters: {'C': 1.740177159259029, 'penalty': 'l2'}. Best is trial 7 with value: 0.6450809464508095.\n",
      "[I 2024-04-02 13:05:46,627] Trial 15 finished with value: 0.44209215442092153 and parameters: {'C': 0.23579942847331745, 'penalty': 'l2'}. Best is trial 7 with value: 0.6450809464508095.\n",
      "[I 2024-04-02 13:05:52,217] Trial 16 finished with value: 0.6438356164383562 and parameters: {'C': 10.668929754549518, 'penalty': 'l2'}. Best is trial 7 with value: 0.6450809464508095.\n",
      "[I 2024-04-02 13:05:54,235] Trial 17 finished with value: 0.5174346201743462 and parameters: {'C': 0.5286761381315399, 'penalty': 'l2'}. Best is trial 7 with value: 0.6450809464508095.\n",
      "[I 2024-04-02 13:05:59,878] Trial 18 finished with value: 0.6444582814445828 and parameters: {'C': 8.893801138197547, 'penalty': 'l2'}. Best is trial 7 with value: 0.6450809464508095.\n",
      "[I 2024-04-02 13:06:07,618] Trial 19 finished with value: 0.6463262764632628 and parameters: {'C': 25.574460831580335, 'penalty': 'l2'}. Best is trial 19 with value: 0.6463262764632628.\n",
      "[I 2024-04-02 13:06:11,904] Trial 20 finished with value: 0.6394769613947696 and parameters: {'C': 4.8425663622539465, 'penalty': 'l2'}. Best is trial 19 with value: 0.6463262764632628.\n",
      "[I 2024-04-02 13:06:18,768] Trial 21 finished with value: 0.6444582814445828 and parameters: {'C': 20.200172274115648, 'penalty': 'l2'}. Best is trial 19 with value: 0.6463262764632628.\n",
      "[I 2024-04-02 13:06:26,210] Trial 22 finished with value: 0.6457036114570361 and parameters: {'C': 30.651143768388472, 'penalty': 'l2'}. Best is trial 19 with value: 0.6463262764632628.\n",
      "[I 2024-04-02 13:06:35,585] Trial 23 finished with value: 0.6407222914072229 and parameters: {'C': 84.54400947390552, 'penalty': 'l2'}. Best is trial 19 with value: 0.6463262764632628.\n",
      "[I 2024-04-02 13:06:39,493] Trial 24 finished with value: 0.6344956413449564 and parameters: {'C': 4.10294930113833, 'penalty': 'l2'}. Best is trial 19 with value: 0.6463262764632628.\n",
      "[I 2024-04-02 13:06:47,021] Trial 25 finished with value: 0.6457036114570361 and parameters: {'C': 31.42774485086533, 'penalty': 'l2'}. Best is trial 19 with value: 0.6463262764632628.\n",
      "[I 2024-04-02 13:06:49,653] Trial 26 finished with value: 0.5790784557907845 and parameters: {'C': 1.2420671682525675, 'penalty': 'l2'}. Best is trial 19 with value: 0.6463262764632628.\n",
      "[I 2024-04-02 13:06:51,088] Trial 27 finished with value: 0.42092154420921546 and parameters: {'C': 0.19460459265689062, 'penalty': 'l2'}. Best is trial 19 with value: 0.6463262764632628.\n",
      "[I 2024-04-02 13:06:58,097] Trial 28 finished with value: 0.6469489414694894 and parameters: {'C': 25.791116488879055, 'penalty': 'l2'}. Best is trial 28 with value: 0.6469489414694894.\n",
      "[I 2024-04-02 13:07:03,597] Trial 29 finished with value: 0.6444582814445828 and parameters: {'C': 9.236401675953585, 'penalty': 'l2'}. Best is trial 28 with value: 0.6469489414694894.\n",
      "[I 2024-04-02 13:07:09,825] Trial 30 finished with value: 0.6419676214196762 and parameters: {'C': 16.239953253862037, 'penalty': 'l2'}. Best is trial 28 with value: 0.6469489414694894.\n",
      "[I 2024-04-02 13:07:16,794] Trial 31 finished with value: 0.6457036114570361 and parameters: {'C': 28.28012096061629, 'penalty': 'l2'}. Best is trial 28 with value: 0.6469489414694894.\n",
      "[I 2024-04-02 13:07:24,670] Trial 32 finished with value: 0.6438356164383562 and parameters: {'C': 40.77568658436973, 'penalty': 'l2'}. Best is trial 28 with value: 0.6469489414694894.\n",
      "[I 2024-04-02 13:07:34,344] Trial 33 finished with value: 0.6382316313823163 and parameters: {'C': 96.59505432658015, 'penalty': 'l2'}. Best is trial 28 with value: 0.6469489414694894.\n",
      "[I 2024-04-02 13:07:39,899] Trial 34 finished with value: 0.6432129514321295 and parameters: {'C': 11.759522469920094, 'penalty': 'l2'}. Best is trial 28 with value: 0.6469489414694894.\n",
      "[I 2024-04-02 13:07:43,659] Trial 35 finished with value: 0.6264009962640099 and parameters: {'C': 3.3011687161797285, 'penalty': 'l2'}. Best is trial 28 with value: 0.6469489414694894.\n",
      "[I 2024-04-02 13:07:51,396] Trial 36 finished with value: 0.6438356164383562 and parameters: {'C': 41.2123559637568, 'penalty': 'l2'}. Best is trial 28 with value: 0.6469489414694894.\n",
      "[I 2024-04-02 13:07:52,507] Trial 37 finished with value: 0.23910336239103364 and parameters: {'C': 0.017387092134012166, 'penalty': 'l2'}. Best is trial 28 with value: 0.6469489414694894.\n",
      "[I 2024-04-02 13:07:58,890] Trial 38 finished with value: 0.6419676214196762 and parameters: {'C': 17.430556869829932, 'penalty': 'l2'}. Best is trial 28 with value: 0.6469489414694894.\n",
      "[I 2024-04-02 13:08:03,835] Trial 39 finished with value: 0.6425902864259029 and parameters: {'C': 6.8487125389347705, 'penalty': 'l2'}. Best is trial 28 with value: 0.6469489414694894.\n",
      "Meilleurs paramètres trouvés: {'C': 25.791116488879055, 'penalty': 'l2'}\n",
      "Meilleure précision trouvée: 0.6469489414694894\n"
     ]
    }
   ],
   "source": [
    "# Définir la fonction objectif\n",
    "def objectif(trial):\n",
    "    # Définir les paramètres à optimiser\n",
    "    C = trial.suggest_loguniform('C', 1e-5, 100)\n",
    "    penalty = trial.suggest_categorical('penalty', ['l2'])\n",
    "\n",
    "    # Initialiser le modèle de Régression Logistique avec les paramètres suggérés\n",
    "    modele_regression_logistique = LogisticRegression(C=C, penalty=penalty, max_iter=1000)\n",
    "\n",
    "    # Entraîner le modèle sur les données d'entraînement\n",
    "    modele_regression_logistique.fit(X_train, y_train)\n",
    "\n",
    "    # Prédictions sur l'ensemble de validation\n",
    "    y_val_pred = modele_regression_logistique.predict(X_test)\n",
    "\n",
    "    # Calculer la précision\n",
    "    precision = accuracy_score(y_test, y_val_pred)\n",
    "\n",
    "    return precision\n",
    "\n",
    "# Créer un objet d'étude et optimiser la fonction objectif\n",
    "etude = optuna.create_study(direction='maximize')\n",
    "etude.optimize(objectif, n_trials=40, show_progress_bar=True)\n",
    "\n",
    "# Afficher les meilleurs paramètres et la meilleure précision\n",
    "print(\"Meilleurs paramètres trouvés:\", etude.best_params)\n",
    "print(\"Meilleure précision trouvée:\", etude.best_value)\n"
   ]
  },
  {
   "cell_type": "code",
   "execution_count": 7,
   "metadata": {},
   "outputs": [
    {
     "name": "stderr",
     "output_type": "stream",
     "text": [
      "[I 2024-03-27 20:09:51,949] A new study created in memory with name: no-name-42fe31fa-087e-40e5-9c2b-388983946de7\n"
     ]
    },
    {
     "data": {
      "application/vnd.jupyter.widget-view+json": {
       "model_id": "a7f065a675fd434982fb9ed306b5b224",
       "version_major": 2,
       "version_minor": 0
      },
      "text/plain": [
       "  0%|          | 0/100 [00:00<?, ?it/s]"
      ]
     },
     "metadata": {},
     "output_type": "display_data"
    },
    {
     "name": "stdout",
     "output_type": "stream",
     "text": [
      "[I 2024-03-27 20:11:45,939] Trial 0 finished with value: 0.6500622665006227 and parameters: {'hidden_layer_sizes': (200,), 'alpha': 6.86597408288579e-05}. Best is trial 0 with value: 0.6500622665006227.\n",
      "[I 2024-03-27 20:12:53,231] Trial 1 finished with value: 0.6469489414694894 and parameters: {'hidden_layer_sizes': (100,), 'alpha': 5.0357153648691513e-05}. Best is trial 0 with value: 0.6500622665006227.\n",
      "[I 2024-03-27 20:14:21,232] Trial 2 finished with value: 0.6625155666251556 and parameters: {'hidden_layer_sizes': (100,), 'alpha': 0.001026569834824792}. Best is trial 2 with value: 0.6625155666251556.\n",
      "[I 2024-03-27 20:28:37,643] Trial 3 finished with value: 0.6531755915317559 and parameters: {'hidden_layer_sizes': (50,), 'alpha': 0.00021235175310644282}. Best is trial 2 with value: 0.6625155666251556.\n",
      "[I 2024-03-27 20:38:08,973] Trial 4 finished with value: 0.6432129514321295 and parameters: {'hidden_layer_sizes': (100,), 'alpha': 1.1301390310065813e-05}. Best is trial 2 with value: 0.6625155666251556.\n",
      "[I 2024-03-27 20:39:18,610] Trial 5 finished with value: 0.6674968866749689 and parameters: {'hidden_layer_sizes': (50,), 'alpha': 0.01119117188361151}. Best is trial 5 with value: 0.6674968866749689.\n",
      "[I 2024-03-27 20:40:51,089] Trial 6 finished with value: 0.6656288916562889 and parameters: {'hidden_layer_sizes': (100,), 'alpha': 0.027156785875321516}. Best is trial 5 with value: 0.6674968866749689.\n",
      "[I 2024-03-27 20:42:01,101] Trial 7 finished with value: 0.663760896637609 and parameters: {'hidden_layer_sizes': (50,), 'alpha': 0.09143617843483219}. Best is trial 5 with value: 0.6674968866749689.\n",
      "[I 2024-03-27 20:44:04,407] Trial 8 finished with value: 0.6606475716064757 and parameters: {'hidden_layer_sizes': (100,), 'alpha': 0.0021227170623161155}. Best is trial 5 with value: 0.6674968866749689.\n",
      "[I 2024-03-27 20:46:08,226] Trial 9 finished with value: 0.6681195516811955 and parameters: {'hidden_layer_sizes': (200,), 'alpha': 0.010704664792527803}. Best is trial 9 with value: 0.6681195516811955.\n",
      "[I 2024-03-27 20:48:46,124] Trial 10 finished with value: 0.6674968866749689 and parameters: {'hidden_layer_sizes': (200,), 'alpha': 0.004553309810615482}. Best is trial 9 with value: 0.6681195516811955.\n",
      "[I 2024-03-27 20:49:49,101] Trial 11 finished with value: 0.6650062266500623 and parameters: {'hidden_layer_sizes': (50,), 'alpha': 0.009435497100101296}. Best is trial 9 with value: 0.6681195516811955.\n",
      "[I 2024-03-27 20:52:10,365] Trial 12 finished with value: 0.6674968866749689 and parameters: {'hidden_layer_sizes': (200,), 'alpha': 0.014626033107395986}. Best is trial 9 with value: 0.6681195516811955.\n",
      "[I 2024-03-27 20:54:21,155] Trial 13 finished with value: 0.6650062266500623 and parameters: {'hidden_layer_sizes': (200,), 'alpha': 0.0035951818786798206}. Best is trial 9 with value: 0.6681195516811955.\n",
      "[I 2024-03-27 20:55:38,339] Trial 14 finished with value: 0.6650062266500623 and parameters: {'hidden_layer_sizes': (50,), 'alpha': 0.0370453120401545}. Best is trial 9 with value: 0.6681195516811955.\n",
      "[I 2024-03-27 20:57:54,546] Trial 15 finished with value: 0.6631382316313823 and parameters: {'hidden_layer_sizes': (200,), 'alpha': 0.015607555889890922}. Best is trial 9 with value: 0.6681195516811955.\n",
      "[I 2024-03-27 20:59:13,841] Trial 16 finished with value: 0.6693648816936488 and parameters: {'hidden_layer_sizes': (50,), 'alpha': 0.09158614968227348}. Best is trial 16 with value: 0.6693648816936488.\n",
      "[I 2024-03-27 21:00:38,365] Trial 17 finished with value: 0.6656288916562889 and parameters: {'hidden_layer_sizes': (50,), 'alpha': 0.0895484564491573}. Best is trial 16 with value: 0.6693648816936488.\n",
      "[I 2024-03-27 21:02:19,399] Trial 18 finished with value: 0.6656288916562889 and parameters: {'hidden_layer_sizes': (200,), 'alpha': 0.045107544835519715}. Best is trial 16 with value: 0.6693648816936488.\n",
      "[I 2024-03-27 21:03:22,576] Trial 19 finished with value: 0.6650062266500623 and parameters: {'hidden_layer_sizes': (50,), 'alpha': 0.006074031993202238}. Best is trial 16 with value: 0.6693648816936488.\n",
      "[I 2024-03-27 21:05:10,232] Trial 20 finished with value: 0.663760896637609 and parameters: {'hidden_layer_sizes': (200,), 'alpha': 0.03411843704422926}. Best is trial 16 with value: 0.6693648816936488.\n",
      "[I 2024-03-27 21:06:26,667] Trial 21 finished with value: 0.660024906600249 and parameters: {'hidden_layer_sizes': (50,), 'alpha': 0.013399665134083963}. Best is trial 16 with value: 0.6693648816936488.\n",
      "[I 2024-03-27 21:07:25,589] Trial 22 finished with value: 0.661892901618929 and parameters: {'hidden_layer_sizes': (50,), 'alpha': 0.0022926291376619964}. Best is trial 16 with value: 0.6693648816936488.\n",
      "[I 2024-03-27 21:08:43,437] Trial 23 finished with value: 0.6650062266500623 and parameters: {'hidden_layer_sizes': (50,), 'alpha': 0.007839718791913692}. Best is trial 16 with value: 0.6693648816936488.\n"
     ]
    }
   ],
   "source": [
    "# Définir la fonction objectif\n",
    "def objectif(trial):\n",
    "    # Définir les paramètres à optimiser\n",
    "    hidden_layer_sizes = trial.suggest_categorical('hidden_layer_sizes', [(50,), (100,), (200,)])\n",
    "    alpha = trial.suggest_loguniform('alpha', 1e-5, 1e-1)\n",
    "    \n",
    "    # Initialiser le modèle de réseau de neurones avec les paramètres suggérés\n",
    "    modele_reseau_neurones = MLPClassifier(hidden_layer_sizes=hidden_layer_sizes, alpha=alpha, max_iter=1000)\n",
    "    \n",
    "    # Entraîner le modèle sur les données d'entraînement\n",
    "    modele_reseau_neurones.fit(X_train, y_train)\n",
    "    \n",
    "    # Prédictions sur l'ensemble de validation\n",
    "    y_val_pred = modele_reseau_neurones.predict(X_test)\n",
    "    \n",
    "    # Calculer la précision\n",
    "    precision = accuracy_score(y_test, y_val_pred)\n",
    "    \n",
    "    return precision\n",
    "\n",
    "# Diviser les données en ensembles d'entraînement et de validation\n",
    "# X_train, X_val, y_train, y_val = train_test_split(x_train_transformed, y_train, test_size=0.2, random_state=42)\n",
    "\n",
    "# Créer un objet d'étude et optimiser la fonction objectif\n",
    "etude = optuna.create_study(direction='maximize')\n",
    "etude.optimize(objectif, n_trials=25, show_progress_bar=True)\n",
    "\n",
    "# Afficher les meilleurs paramètres et la meilleure précision\n",
    "print(\"Meilleurs paramètres trouvés:\", etude.best_params)\n",
    "print(\"Meilleure précision trouvée:\", etude.best_value)"
   ]
  },
  {
   "cell_type": "markdown",
   "metadata": {},
   "source": [
    "### Modèle final : "
   ]
  },
  {
   "cell_type": "code",
   "execution_count": 21,
   "metadata": {},
   "outputs": [
    {
     "name": "stdout",
     "output_type": "stream",
     "text": [
      "MLPClassifier Accuracy: 0.6407222914072229\n",
      "LogisticRegression Accuracy: 0.6469489414694894\n"
     ]
    }
   ],
   "source": [
    "models = {\n",
    "    \n",
    "    \"MLPClassifier\": MLPClassifier(hidden_layer_sizes=(50,), alpha=0.09158614968227348, max_iter=1000),\n",
    "    \"LogisticRegression\": LogisticRegression(C=25.791116488879055, max_iter=1000)\n",
    "    \n",
    "}\n",
    "\n",
    "# Loop through each model\n",
    "for model_name, model in models.items():\n",
    "    # Train the model on the training data\n",
    "    model.fit(X_train, y_train)\n",
    "\n",
    "    # Predictions on the validation set\n",
    "    y_val_pred = model.predict(X_test)\n",
    "\n",
    "    # Evaluate the performance of the model\n",
    "    accuracy = accuracy_score(y_test, y_val_pred)\n",
    "    print(f\"{model_name} Accuracy:\", accuracy)"
   ]
  },
  {
   "cell_type": "code",
   "execution_count": 22,
   "metadata": {},
   "outputs": [
    {
     "data": {
      "text/html": [
       "<style>#sk-container-id-3 {color: black;}#sk-container-id-3 pre{padding: 0;}#sk-container-id-3 div.sk-toggleable {background-color: white;}#sk-container-id-3 label.sk-toggleable__label {cursor: pointer;display: block;width: 100%;margin-bottom: 0;padding: 0.3em;box-sizing: border-box;text-align: center;}#sk-container-id-3 label.sk-toggleable__label-arrow:before {content: \"▸\";float: left;margin-right: 0.25em;color: #696969;}#sk-container-id-3 label.sk-toggleable__label-arrow:hover:before {color: black;}#sk-container-id-3 div.sk-estimator:hover label.sk-toggleable__label-arrow:before {color: black;}#sk-container-id-3 div.sk-toggleable__content {max-height: 0;max-width: 0;overflow: hidden;text-align: left;background-color: #f0f8ff;}#sk-container-id-3 div.sk-toggleable__content pre {margin: 0.2em;color: black;border-radius: 0.25em;background-color: #f0f8ff;}#sk-container-id-3 input.sk-toggleable__control:checked~div.sk-toggleable__content {max-height: 200px;max-width: 100%;overflow: auto;}#sk-container-id-3 input.sk-toggleable__control:checked~label.sk-toggleable__label-arrow:before {content: \"▾\";}#sk-container-id-3 div.sk-estimator input.sk-toggleable__control:checked~label.sk-toggleable__label {background-color: #d4ebff;}#sk-container-id-3 div.sk-label input.sk-toggleable__control:checked~label.sk-toggleable__label {background-color: #d4ebff;}#sk-container-id-3 input.sk-hidden--visually {border: 0;clip: rect(1px 1px 1px 1px);clip: rect(1px, 1px, 1px, 1px);height: 1px;margin: -1px;overflow: hidden;padding: 0;position: absolute;width: 1px;}#sk-container-id-3 div.sk-estimator {font-family: monospace;background-color: #f0f8ff;border: 1px dotted black;border-radius: 0.25em;box-sizing: border-box;margin-bottom: 0.5em;}#sk-container-id-3 div.sk-estimator:hover {background-color: #d4ebff;}#sk-container-id-3 div.sk-parallel-item::after {content: \"\";width: 100%;border-bottom: 1px solid gray;flex-grow: 1;}#sk-container-id-3 div.sk-label:hover label.sk-toggleable__label {background-color: #d4ebff;}#sk-container-id-3 div.sk-serial::before {content: \"\";position: absolute;border-left: 1px solid gray;box-sizing: border-box;top: 0;bottom: 0;left: 50%;z-index: 0;}#sk-container-id-3 div.sk-serial {display: flex;flex-direction: column;align-items: center;background-color: white;padding-right: 0.2em;padding-left: 0.2em;position: relative;}#sk-container-id-3 div.sk-item {position: relative;z-index: 1;}#sk-container-id-3 div.sk-parallel {display: flex;align-items: stretch;justify-content: center;background-color: white;position: relative;}#sk-container-id-3 div.sk-item::before, #sk-container-id-3 div.sk-parallel-item::before {content: \"\";position: absolute;border-left: 1px solid gray;box-sizing: border-box;top: 0;bottom: 0;left: 50%;z-index: -1;}#sk-container-id-3 div.sk-parallel-item {display: flex;flex-direction: column;z-index: 1;position: relative;background-color: white;}#sk-container-id-3 div.sk-parallel-item:first-child::after {align-self: flex-end;width: 50%;}#sk-container-id-3 div.sk-parallel-item:last-child::after {align-self: flex-start;width: 50%;}#sk-container-id-3 div.sk-parallel-item:only-child::after {width: 0;}#sk-container-id-3 div.sk-dashed-wrapped {border: 1px dashed gray;margin: 0 0.4em 0.5em 0.4em;box-sizing: border-box;padding-bottom: 0.4em;background-color: white;}#sk-container-id-3 div.sk-label label {font-family: monospace;font-weight: bold;display: inline-block;line-height: 1.2em;}#sk-container-id-3 div.sk-label-container {text-align: center;}#sk-container-id-3 div.sk-container {/* jupyter's `normalize.less` sets `[hidden] { display: none; }` but bootstrap.min.css set `[hidden] { display: none !important; }` so we also need the `!important` here to be able to override the default hidden behavior on the sphinx rendered scikit-learn.org. See: https://github.com/scikit-learn/scikit-learn/issues/21755 */display: inline-block !important;position: relative;}#sk-container-id-3 div.sk-text-repr-fallback {display: none;}</style><div id=\"sk-container-id-3\" class=\"sk-top-container\"><div class=\"sk-text-repr-fallback\"><pre>LogisticRegression(C=25.791116488879055, max_iter=1000)</pre><b>In a Jupyter environment, please rerun this cell to show the HTML representation or trust the notebook. <br />On GitHub, the HTML representation is unable to render, please try loading this page with nbviewer.org.</b></div><div class=\"sk-container\" hidden><div class=\"sk-item\"><div class=\"sk-estimator sk-toggleable\"><input class=\"sk-toggleable__control sk-hidden--visually\" id=\"sk-estimator-id-3\" type=\"checkbox\" checked><label for=\"sk-estimator-id-3\" class=\"sk-toggleable__label sk-toggleable__label-arrow\">LogisticRegression</label><div class=\"sk-toggleable__content\"><pre>LogisticRegression(C=25.791116488879055, max_iter=1000)</pre></div></div></div></div></div>"
      ],
      "text/plain": [
       "LogisticRegression(C=25.791116488879055, max_iter=1000)"
      ]
     },
     "execution_count": 22,
     "metadata": {},
     "output_type": "execute_result"
    }
   ],
   "source": [
    "model"
   ]
  },
  {
   "cell_type": "markdown",
   "metadata": {},
   "source": [
    "# Submissions : "
   ]
  },
  {
   "cell_type": "code",
   "execution_count": 11,
   "metadata": {},
   "outputs": [],
   "source": [
    "y_pred = model.predict(x_test_transformed)"
   ]
  },
  {
   "cell_type": "code",
   "execution_count": 12,
   "metadata": {},
   "outputs": [],
   "source": [
    "submission = pd.DataFrame({\"ID\" : list(x_test.index), \"intention\" : y_pred})\n",
    "submission.set_index(\"ID\", inplace=True)\n",
    "submission.to_csv(\"Submission_LR.csv\")"
   ]
  }
 ],
 "metadata": {
  "kernelspec": {
   "display_name": "venv",
   "language": "python",
   "name": "python3"
  },
  "language_info": {
   "codemirror_mode": {
    "name": "ipython",
    "version": 3
   },
   "file_extension": ".py",
   "mimetype": "text/x-python",
   "name": "python",
   "nbconvert_exporter": "python",
   "pygments_lexer": "ipython3",
   "version": "3.11.5"
  }
 },
 "nbformat": 4,
 "nbformat_minor": 2
}
