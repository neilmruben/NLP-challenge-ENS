{
 "cells": [
  {
   "cell_type": "markdown",
   "metadata": {},
   "source": [
    "## Import des bibliothèques "
   ]
  },
  {
   "cell_type": "markdown",
   "metadata": {},
   "source": []
  },
  {
   "cell_type": "code",
   "execution_count": 1,
   "metadata": {},
   "outputs": [],
   "source": [
    "import pandas as pd\n",
    "import matplotlib.pyplot as plt\n",
    "\n",
    "import numpy as np\n",
    "from sklearn.naive_bayes import MultinomialNB\n",
    "from sklearn.feature_extraction.text import CountVectorizer\n",
    "from collections import Counter\n",
    "from sklearn.model_selection import train_test_split\n",
    "from sklearn.feature_extraction.text import TfidfTransformer"
   ]
  },
  {
   "cell_type": "markdown",
   "metadata": {},
   "source": [
    "### Chargement des dataframe pour le projet"
   ]
  },
  {
   "cell_type": "code",
   "execution_count": 2,
   "metadata": {},
   "outputs": [],
   "source": [
    "x_train = pd.read_csv(r\"./data/x_train.csv\")\n",
    "y_train = pd.read_csv(r\"./data/y_train.csv\")\n",
    "x_test = pd.read_csv(r\"./data/x_test.csv\")\n",
    "\n",
    "x_train = x_train.set_index('ID')\n",
    "y_train = y_train.set_index('ID')\n",
    "x_test = x_test.set_index('ID')\n",
    "\n",
    "train = pd.concat([x_train, y_train], axis=1)\n",
    "data = pd.concat([train, x_test], axis=0)"
   ]
  },
  {
   "cell_type": "markdown",
   "metadata": {},
   "source": [
    "### Début de l'analyse des dataframes"
   ]
  },
  {
   "cell_type": "code",
   "execution_count": 3,
   "metadata": {},
   "outputs": [
    {
     "name": "stdout",
     "output_type": "stream",
     "text": [
      "(8028, 1)\n",
      "(8028, 1)\n",
      "(2035, 1)\n"
     ]
    }
   ],
   "source": [
    "print(x_train.shape)\n",
    "print(y_train.shape)\n",
    "print(x_test.shape)"
   ]
  },
  {
   "cell_type": "code",
   "execution_count": 4,
   "metadata": {},
   "outputs": [
    {
     "name": "stderr",
     "output_type": "stream",
     "text": [
      "[nltk_data] Downloading package punkt to\n",
      "[nltk_data]     /Users/neilmarteau/nltk_data...\n",
      "[nltk_data]   Package punkt is already up-to-date!\n",
      "[nltk_data] Downloading package stopwords to\n",
      "[nltk_data]     /Users/neilmarteau/nltk_data...\n",
      "[nltk_data]   Package stopwords is already up-to-date!\n",
      "[nltk_data] Downloading package wordnet to\n",
      "[nltk_data]     /Users/neilmarteau/nltk_data...\n",
      "[nltk_data]   Package wordnet is already up-to-date!\n"
     ]
    }
   ],
   "source": [
    "import re\n",
    "import string\n",
    "import nltk\n",
    "from nltk.corpus import stopwords\n",
    "from nltk.stem import WordNetLemmatizer\n",
    "\n",
    "# Télécharger les ressources NLTK nécessaires\n",
    "nltk.download('punkt')\n",
    "nltk.download('stopwords')\n",
    "nltk.download('wordnet')\n",
    "\n",
    "def preprocess_text(text):\n",
    "    # Convertir le texte en minuscules\n",
    "    text = text.lower()\n",
    "    \n",
    "    # Supprimer les balises HTML (le cas échéant)\n",
    "    text = re.sub(r'<.*?>', '', text)\n",
    "    \n",
    "    # Supprimer la ponctuation\n",
    "    text = text.translate(str.maketrans('', '', string.punctuation))\n",
    "    \n",
    "    # Tokenization (division en mots)\n",
    "    tokens = nltk.word_tokenize(text)\n",
    "    \n",
    "    # Supprimer les mots vides\n",
    "    stop_words = set(stopwords.words('french'))\n",
    "    tokens = [word for word in tokens if word not in stop_words]\n",
    "    \n",
    "    # Lemmatization\n",
    "    lemmatizer = WordNetLemmatizer()\n",
    "    tokens = [lemmatizer.lemmatize(word) for word in tokens]\n",
    "    \n",
    "    # Rejoindre les mots traités en une seule chaîne de caractères\n",
    "    processed_text = ' '.join(tokens)\n",
    "    \n",
    "    return processed_text\n",
    "\n",
    "# Exemple d'utilisation\n",
    "data.question = data.question.apply(preprocess_text)"
   ]
  },
  {
   "cell_type": "code",
   "execution_count": 5,
   "metadata": {},
   "outputs": [],
   "source": [
    "from sklearn.feature_extraction.text import CountVectorizer\n",
    "\n",
    "# Initialize and fit the CountVectorizer\n",
    "vectorizer = CountVectorizer()\n",
    "vectorizer.fit(data['question'])\n",
    "\n",
    "# Transform x_train and x_test using the same vectorizer\n",
    "x_train_transformed = vectorizer.transform(x_train['question'])\n",
    "x_test_transformed = vectorizer.transform(x_test['question'])\n"
   ]
  },
  {
   "cell_type": "code",
   "execution_count": 41,
   "metadata": {},
   "outputs": [],
   "source": [
    "from sklearn.feature_extraction.text import HashingVectorizer\n",
    "\n",
    "# Initialize the HashingVectorizer\n",
    "vectorizer = HashingVectorizer(n_features=5000)  # You can adjust the number of features (n_features) as needed\n",
    "\n",
    "# Transform x_train and x_test using the HashingVectorizer\n",
    "x_train_transformed = vectorizer.transform(x_train['question'])\n",
    "x_test_transformed = vectorizer.transform(x_test['question'])\n",
    "\n"
   ]
  },
  {
   "cell_type": "code",
   "execution_count": 55,
   "metadata": {},
   "outputs": [],
   "source": [
    "from sklearn.feature_extraction.text import TfidfVectorizer\n",
    "\n",
    "# Initialize the TF-IDF Vectorizer\n",
    "vectorizer = TfidfVectorizer(max_features=10000)  # You can adjust the number of max features as needed\n",
    "\n",
    "# Fit and transform x_train\n",
    "x_train_transformed = vectorizer.fit_transform(x_train['question'])\n",
    "\n",
    "# Transform x_test\n",
    "x_test_transformed = vectorizer.transform(x_test['question'])\n"
   ]
  },
  {
   "cell_type": "code",
   "execution_count": 6,
   "metadata": {},
   "outputs": [],
   "source": [
    "from sklearn.model_selection import train_test_split\n",
    "from sklearn.feature_extraction.text import TfidfVectorizer\n",
    "from sklearn.naive_bayes import MultinomialNB\n",
    "from sklearn.metrics import classification_report\n",
    "\n",
    "# Diviser les données en ensembles d'entraînement et de test\n",
    "X_train, X_test, y_train, y_test = train_test_split(x_train_transformed, y_train, test_size=0.2, random_state=42)\n"
   ]
  },
  {
   "cell_type": "code",
   "execution_count": 7,
   "metadata": {},
   "outputs": [
    {
     "ename": "NameError",
     "evalue": "name 'SVC' is not defined",
     "output_type": "error",
     "traceback": [
      "\u001b[0;31m---------------------------------------------------------------------------\u001b[0m",
      "\u001b[0;31mNameError\u001b[0m                                 Traceback (most recent call last)",
      "\u001b[1;32m/Users/neilmarteau/Documents/M2 MoSEF/NLP/GitProject/projet_NLP_test.ipynb Cellule 13\u001b[0m line \u001b[0;36m2\n\u001b[1;32m      <a href='vscode-notebook-cell:/Users/neilmarteau/Documents/M2%20MoSEF/NLP/GitProject/projet_NLP_test.ipynb#X15sZmlsZQ%3D%3D?line=0'>1</a>\u001b[0m \u001b[39m# Initialize the Random Forest classifier\u001b[39;00m\n\u001b[0;32m----> <a href='vscode-notebook-cell:/Users/neilmarteau/Documents/M2%20MoSEF/NLP/GitProject/projet_NLP_test.ipynb#X15sZmlsZQ%3D%3D?line=1'>2</a>\u001b[0m SVC_model \u001b[39m=\u001b[39m SVC()\n\u001b[1;32m      <a href='vscode-notebook-cell:/Users/neilmarteau/Documents/M2%20MoSEF/NLP/GitProject/projet_NLP_test.ipynb#X15sZmlsZQ%3D%3D?line=2'>3</a>\u001b[0m \u001b[39m# Train the model on the training data\u001b[39;00m\n\u001b[1;32m      <a href='vscode-notebook-cell:/Users/neilmarteau/Documents/M2%20MoSEF/NLP/GitProject/projet_NLP_test.ipynb#X15sZmlsZQ%3D%3D?line=3'>4</a>\u001b[0m SVC_model\u001b[39m.\u001b[39mfit(X_train, y_train)\n",
      "\u001b[0;31mNameError\u001b[0m: name 'SVC' is not defined"
     ]
    }
   ],
   "source": [
    "# Initialize the Random Forest classifier\n",
    "SVC_model = SVC()\n",
    "# Train the model on the training data\n",
    "SVC_model.fit(X_train, y_train)\n",
    "\n",
    "# Predictions on the validation set\n",
    "y_val_pred_rf = SVC_model.predict(X_test)\n",
    "\n",
    "# Evaluate the performance of your model\n",
    "accuracy_rf = accuracy_score(y_test, y_val_pred_rf)\n",
    "print(\"SVC Accuracy:\", accuracy_rf)"
   ]
  },
  {
   "cell_type": "code",
   "execution_count": 8,
   "metadata": {},
   "outputs": [
    {
     "name": "stderr",
     "output_type": "stream",
     "text": [
      "/Users/neilmarteau/anaconda3/lib/python3.11/site-packages/sklearn/utils/validation.py:1184: DataConversionWarning: A column-vector y was passed when a 1d array was expected. Please change the shape of y to (n_samples, ), for example using ravel().\n",
      "  y = column_or_1d(y, warn=True)\n"
     ]
    },
    {
     "ename": "NameError",
     "evalue": "name 'accuracy_score' is not defined",
     "output_type": "error",
     "traceback": [
      "\u001b[0;31m---------------------------------------------------------------------------\u001b[0m",
      "\u001b[0;31mNameError\u001b[0m                                 Traceback (most recent call last)",
      "\u001b[1;32m/Users/neilmarteau/Documents/M2 MoSEF/NLP/GitProject/projet_NLP_test.ipynb Cellule 14\u001b[0m line \u001b[0;36m1\n\u001b[1;32m      <a href='vscode-notebook-cell:/Users/neilmarteau/Documents/M2%20MoSEF/NLP/GitProject/projet_NLP_test.ipynb#X16sZmlsZQ%3D%3D?line=6'>7</a>\u001b[0m y_val_pred_rf \u001b[39m=\u001b[39m MultinomialNB_model\u001b[39m.\u001b[39mpredict(X_test)\n\u001b[1;32m      <a href='vscode-notebook-cell:/Users/neilmarteau/Documents/M2%20MoSEF/NLP/GitProject/projet_NLP_test.ipynb#X16sZmlsZQ%3D%3D?line=8'>9</a>\u001b[0m \u001b[39m# Evaluate the performance of your model\u001b[39;00m\n\u001b[0;32m---> <a href='vscode-notebook-cell:/Users/neilmarteau/Documents/M2%20MoSEF/NLP/GitProject/projet_NLP_test.ipynb#X16sZmlsZQ%3D%3D?line=9'>10</a>\u001b[0m accuracy_rf \u001b[39m=\u001b[39m accuracy_score(y_test, y_val_pred_rf)\n\u001b[1;32m     <a href='vscode-notebook-cell:/Users/neilmarteau/Documents/M2%20MoSEF/NLP/GitProject/projet_NLP_test.ipynb#X16sZmlsZQ%3D%3D?line=10'>11</a>\u001b[0m \u001b[39mprint\u001b[39m(\u001b[39m\"\u001b[39m\u001b[39mRandom Forest Accuracy:\u001b[39m\u001b[39m\"\u001b[39m, accuracy_rf)\n",
      "\u001b[0;31mNameError\u001b[0m: name 'accuracy_score' is not defined"
     ]
    }
   ],
   "source": [
    "# Initialize the Random Forest classifier\n",
    "MultinomialNB_model = MultinomialNB()\n",
    "# Train the model on the training data\n",
    "MultinomialNB_model.fit(X_train, y_train)\n",
    "\n",
    "# Predictions on the validation set\n",
    "y_val_pred_rf = MultinomialNB_model.predict(X_test)\n",
    "\n",
    "# Evaluate the performance of your model\n",
    "accuracy_rf = accuracy_score(y_test, y_val_pred_rf)\n",
    "print(\"Random Forest Accuracy:\", accuracy_rf)\n"
   ]
  },
  {
   "cell_type": "code",
   "execution_count": 11,
   "metadata": {},
   "outputs": [
    {
     "name": "stderr",
     "output_type": "stream",
     "text": [
      "/Users/neilmarteau/anaconda3/lib/python3.11/site-packages/sklearn/base.py:1151: DataConversionWarning: A column-vector y was passed when a 1d array was expected. Please change the shape of y to (n_samples,), for example using ravel().\n",
      "  return fit_method(estimator, *args, **kwargs)\n"
     ]
    },
    {
     "name": "stdout",
     "output_type": "stream",
     "text": [
      "Random Forest Accuracy: 0.5915317559153176\n"
     ]
    }
   ],
   "source": [
    "from sklearn.metrics import accuracy_score\n",
    "from sklearn.ensemble import RandomForestClassifier\n",
    "\n",
    "# Initialize the Random Forest classifier\n",
    "random_forest_model = RandomForestClassifier()\n",
    "\n",
    "# Train the model on the training data\n",
    "random_forest_model.fit(X_train, y_train)\n",
    "\n",
    "# Predictions on the validation set\n",
    "y_val_pred_rf = random_forest_model.predict(X_test)\n",
    "\n",
    "# Evaluate the performance of your model\n",
    "accuracy_rf = accuracy_score(y_test, y_val_pred_rf)\n",
    "print(\"Random Forest Accuracy:\", accuracy_rf)\n"
   ]
  },
  {
   "cell_type": "code",
   "execution_count": 12,
   "metadata": {},
   "outputs": [
    {
     "name": "stderr",
     "output_type": "stream",
     "text": [
      "/Users/neilmarteau/anaconda3/lib/python3.11/site-packages/sklearn/utils/validation.py:1184: DataConversionWarning: A column-vector y was passed when a 1d array was expected. Please change the shape of y to (n_samples, ), for example using ravel().\n",
      "  y = column_or_1d(y, warn=True)\n"
     ]
    },
    {
     "name": "stdout",
     "output_type": "stream",
     "text": [
      "0.6214196762141968\n"
     ]
    }
   ],
   "source": [
    "from sklearn.linear_model import LogisticRegression\n",
    "\n",
    "# Initialize the logistic regression model\n",
    "logistic_regression_model = LogisticRegression(max_iter=1000)  # You can adjust max_iter as needed\n",
    "\n",
    "# Train the model on the training data\n",
    "logistic_regression_model.fit(X_train, y_train)\n",
    "\n",
    "# Predictions on the validation set\n",
    "y_val_pred = logistic_regression_model.predict(X_test)\n",
    "\n",
    "# Now you can evaluate the performance of your model using various metrics\n",
    "# For example, you can use accuracy_score, confusion_matrix, classification_report, etc.\n",
    "from sklearn.metrics import accuracy_score, confusion_matrix, classification_report\n",
    "\n",
    "accuracy = accuracy_score(y_test, y_val_pred)\n",
    "print(accuracy)"
   ]
  },
  {
   "cell_type": "code",
   "execution_count": null,
   "metadata": {},
   "outputs": [],
   "source": [
    "from sklearn.neural_network import MLPClassifier\n",
    "\n",
    "# Initialize the neural network model\n",
    "# Vous pouvez ajuster les paramètres selon vos besoins\n",
    "neural_network_model = MLPClassifier(hidden_layer_sizes=(100,), max_iter=1000)\n",
    "\n",
    "# Train the model on the training data\n",
    "neural_network_model.fit(X_train, y_train)\n",
    "\n",
    "# Predictions on the validation set\n",
    "y_val_pred = neural_network_model.predict(X_test)\n",
    "\n",
    "# Évaluation des performances du modèle en utilisant différentes métriques\n",
    "from sklearn.metrics import accuracy_score, confusion_matrix, classification_report\n",
    "\n",
    "accuracy = accuracy_score(y_test, y_val_pred)\n",
    "print(accuracy)\n"
   ]
  },
  {
   "cell_type": "code",
   "execution_count": 13,
   "metadata": {},
   "outputs": [],
   "source": [
    "y_pred = neural_network_model.predict(x_test_transformed)"
   ]
  },
  {
   "cell_type": "code",
   "execution_count": 14,
   "metadata": {},
   "outputs": [],
   "source": [
    "submission = pd.DataFrame({\"ID\" : list(x_test.index), \"intention\" : y_pred})"
   ]
  },
  {
   "cell_type": "code",
   "execution_count": 15,
   "metadata": {},
   "outputs": [],
   "source": [
    "submission.set_index(\"ID\", inplace=True)"
   ]
  },
  {
   "cell_type": "code",
   "execution_count": 16,
   "metadata": {},
   "outputs": [],
   "source": [
    "submission.to_csv(\"Submission_vect.csv\")"
   ]
  },
  {
   "cell_type": "code",
   "execution_count": null,
   "metadata": {},
   "outputs": [],
   "source": []
  }
 ],
 "metadata": {
  "kernelspec": {
   "display_name": "venv",
   "language": "python",
   "name": "python3"
  },
  "language_info": {
   "codemirror_mode": {
    "name": "ipython",
    "version": 3
   },
   "file_extension": ".py",
   "mimetype": "text/x-python",
   "name": "python",
   "nbconvert_exporter": "python",
   "pygments_lexer": "ipython3",
   "version": "3.11.5"
  }
 },
 "nbformat": 4,
 "nbformat_minor": 2
}
